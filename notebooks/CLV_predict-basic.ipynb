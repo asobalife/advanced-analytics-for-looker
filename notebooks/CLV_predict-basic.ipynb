{
 "cells": [
  {
   "cell_type": "markdown",
   "id": "infectious-edition",
   "metadata": {},
   "source": [
    "# Customer Lifetime Value Prediction\n",
    "### Using Bayesian Till You Die package + Beta-Geometric NBD Part 1\n",
    "### Basic CLV prediction (CDNow dataset)\n",
    "\n",
    "\n",
    "## Step 1: Install/Load Libraries and Set environment variables"
   ]
  },
  {
   "cell_type": "code",
   "execution_count": 58,
   "id": "placed-globe",
   "metadata": {},
   "outputs": [
    {
     "name": "stderr",
     "output_type": "stream",
     "text": [
      "Installing package into ‘/home/jupyter/.R/library’\n",
      "(as ‘lib’ is unspecified)\n",
      "\n",
      "Skipping install of 'lookr' from a github remote, the SHA1 (409dc8a0) has not changed since last install.\n",
      "  Use `force = TRUE` to force installation\n",
      "\n",
      "Installing package into ‘/home/jupyter/.R/library’\n",
      "(as ‘lib’ is unspecified)\n",
      "\n",
      "Installing package into ‘/home/jupyter/.R/library’\n",
      "(as ‘lib’ is unspecified)\n",
      "\n",
      "Installing package into ‘/home/jupyter/.R/library’\n",
      "(as ‘lib’ is unspecified)\n",
      "\n",
      "Installing package into ‘/home/jupyter/.R/library’\n",
      "(as ‘lib’ is unspecified)\n",
      "\n",
      "Installing package into ‘/home/jupyter/.R/library’\n",
      "(as ‘lib’ is unspecified)\n",
      "\n"
     ]
    }
   ],
   "source": [
    "#Use R kernel to run this notebook.  Program is written in R language\n",
    "\n",
    "install.packages('devtools')\n",
    "library('devtools')\n",
    "install_github(\"llooker/advanced_analytics_accelerator/lookr/\")\n",
    "install.packages(\"readxl\")\n",
    "install.packages(\"ggplot2\")\n",
    "install.packages(\"dplyr\")\n",
    "install.packages(\"BTYDplus\")\n",
    "install.packages(\"bigrquery\")\n",
    "install.packages(\"googleCloudStorageR\")"
   ]
  },
  {
   "cell_type": "code",
   "execution_count": 59,
   "id": "olive-departure",
   "metadata": {},
   "outputs": [],
   "source": [
    "library(lookr)\n",
    "library(ggplot2)\n",
    "library(readxl)\n",
    "library(dplyr)\n",
    "library(BTYDplus)\n",
    "library(bigrquery)\n",
    "library(googleCloudStorageR)"
   ]
  },
  {
   "cell_type": "code",
   "execution_count": 61,
   "id": "tutorial-shade",
   "metadata": {},
   "outputs": [],
   "source": [
    "## Load core functions\n",
    "\n",
    "#authenticate into bq\n",
    "\n",
    "provideBQAuthentication <- function(json_path=\"../service/auth.json\",projectid=Sys.getenv(\"GC_BQ_PROJECTID\"),\n",
    "                                    datasetid=Sys.getenv(\"GC_BQ_DATASETID\"),conn=\"bq_conn\") \n",
    "{\n",
    "  bq_auth(path = json_path)\n",
    "  bq_auth(use_oob = TRUE)\n",
    "  df <-  dbConnect(bigquery(),\n",
    "                        project = projectid,\n",
    "                        dataset = datasetid,\n",
    "                        use_legacy_sql = FALSE\n",
    "  )\n",
    "  #browser()\n",
    "  assign(conn, df, envir=.GlobalEnv)\n",
    "  assign(\"projectid\",projectid, envir=.GlobalEnv)\n",
    "  assign(\"datasetid\",datasetid, envir=.GlobalEnv)\n",
    "}\n"
   ]
  },
  {
   "cell_type": "markdown",
   "id": "advisory-marks",
   "metadata": {},
   "source": [
    "## Step 2: Download Looker Action Hub data saved in GCS bucket"
   ]
  },
  {
   "cell_type": "code",
   "execution_count": 62,
   "id": "another-glasgow",
   "metadata": {},
   "outputs": [
    {
     "name": "stderr",
     "output_type": "stream",
     "text": [
      "\n",
      "\u001b[36m──\u001b[39m \u001b[1m\u001b[1mColumn specification\u001b[1m\u001b[22m \u001b[36m────────────────────────────────────────────────────────\u001b[39m\n",
      "cols(\n",
      "  `Advanced Analytics Accelerator ID` = \u001b[32mcol_double()\u001b[39m,\n",
      "  `Advanced Analytics Accelerator Transaction Date` = \u001b[34mcol_date(format = \"\")\u001b[39m,\n",
      "  `Advanced Analytics Accelerator Total Cds Purchased` = \u001b[32mcol_double()\u001b[39m,\n",
      "  `Advanced Analytics Accelerator Gross Sales` = \u001b[32mcol_double()\u001b[39m\n",
      ")\n",
      "\n",
      "\n"
     ]
    }
   ],
   "source": [
    "# Original idea was to use lookR package to download look, but migrating to grabbing GCS object data = get_look(look_id = 325, limit = -1)\n",
    "\n",
    "data <- gcs_get_object(\"looker.csv\")\n",
    "\n",
    "#renaming fields\n",
    "colnames(data) <- c('cust', 'date', 'orders', 'sales')"
   ]
  },
  {
   "cell_type": "code",
   "execution_count": 63,
   "id": "incredible-intelligence",
   "metadata": {},
   "outputs": [
    {
     "name": "stdout",
     "output_type": "stream",
     "text": [
      "spec_tbl_df [67,591 × 4] (S3: spec_tbl_df/tbl_df/tbl/data.frame)\n",
      " $ cust  : num [1:67591] 1 2 3 3 3 3 3 3 4 4 ...\n",
      " $ date  : Date[1:67591], format: \"1997-01-01\" \"1997-01-12\" ...\n",
      " $ orders: num [1:67591] 1 6 1 2 2 2 4 5 1 2 ...\n",
      " $ sales : num [1:67591] 11.8 89 17 19.5 20.8 ...\n",
      " - attr(*, \"spec\")=\n",
      "  .. cols(\n",
      "  ..   `Advanced Analytics Accelerator ID` = \u001b[32mcol_double()\u001b[39m,\n",
      "  ..   `Advanced Analytics Accelerator Transaction Date` = \u001b[34mcol_date(format = \"\")\u001b[39m,\n",
      "  ..   `Advanced Analytics Accelerator Total Cds Purchased` = \u001b[32mcol_double()\u001b[39m,\n",
      "  ..   `Advanced Analytics Accelerator Gross Sales` = \u001b[32mcol_double()\u001b[39m\n",
      "  .. )\n"
     ]
    }
   ],
   "source": [
    "str(data)"
   ]
  },
  {
   "cell_type": "markdown",
   "id": "adolescent-greeting",
   "metadata": {},
   "source": [
    "## Step 3: Aggregate into customer-level parameters"
   ]
  },
  {
   "cell_type": "markdown",
   "id": "dramatic-champion",
   "metadata": {},
   "source": [
    "Compute the average order size for each customer using the total sales and the number of orders. Finally, set the prediction horizon (T.star) to one month (31 days) for everyone. If we want to predict future spend across a different length of time, we can just change T.star."
   ]
  },
  {
   "cell_type": "code",
   "execution_count": 64,
   "id": "electoral-diana",
   "metadata": {},
   "outputs": [],
   "source": [
    "customer_rdf <- BTYDplus::elog2cbs(\n",
    "data,\n",
    "unit = 'days',\n",
    "T.cal = max(data$date),\n",
    "T.tot = max(data$date)\n",
    ")\n",
    "customer_rdf$sales_avg = customer_rdf$sales / (customer_rdf$x + 1)\n",
    "\n",
    "bgnbd_rdf <- customer_rdf\n",
    "bgnbd_rdf$T.star <- 31 #prediction period is over the next 31 (T.star value) days (unit value)"
   ]
  },
  {
   "cell_type": "markdown",
   "id": "enormous-pizza",
   "metadata": {},
   "source": [
    "Next, use a Beta-Geometric NBD (Negative Binomial Distribution) to predict CLV"
   ]
  },
  {
   "cell_type": "code",
   "execution_count": 65,
   "id": "american-copying",
   "metadata": {},
   "outputs": [],
   "source": [
    "#use a Beta-Geometric NBD (Negative Binomial Distribution) to predict CLV\n",
    "\n",
    "params_bgnbd <- BTYD::bgnbd.EstimateParameters(bgnbd_rdf) # BG/NBD\n",
    "bgnbd_rdf$predicted_bgnbd <- BTYD::bgnbd.ConditionalExpectedTransactions(\n",
    "params = params_bgnbd,\n",
    "T.star = bgnbd_rdf$T.star,\n",
    "x = bgnbd_rdf$x,\n",
    "t.x = bgnbd_rdf$t.x,\n",
    "T.cal= bgnbd_rdf$T.cal\n",
    ")"
   ]
  },
  {
   "cell_type": "markdown",
   "id": "antique-actress",
   "metadata": {},
   "source": [
    "## Step 4: Calculate Predicted CLV"
   ]
  },
  {
   "cell_type": "code",
   "execution_count": 66,
   "id": "instant-belief",
   "metadata": {},
   "outputs": [],
   "source": [
    "bgnbd_rdf$predicted_clv <- bgnbd_rdf$sales_avg * bgnbd_rdf$predicted_bgnbd\n"
   ]
  },
  {
   "cell_type": "markdown",
   "id": "introductory-honolulu",
   "metadata": {},
   "source": [
    "## Visualize Results"
   ]
  },
  {
   "cell_type": "code",
   "execution_count": 67,
   "id": "direct-glossary",
   "metadata": {},
   "outputs": [
    {
     "data": {
      "image/png": "[encoded data removed]",
      "text/plain": [
       "Plot with title “Histogram of bgnbd_rdf$predicted_clv”"
      ]
     },
     "metadata": {
      "image/png": {
       "height": 420,
       "width": 420
      }
     },
     "output_type": "display_data"
    },
    {
     "data": {
      "image/png": "[encoded data removed]",
      "text/plain": [
       "Plot with title “density.default(x = bgnbd_rdf$predicted_clv)”"
      ]
     },
     "metadata": {
      "image/png": {
       "height": 420,
       "width": 420
      }
     },
     "output_type": "display_data"
    }
   ],
   "source": [
    "hist(bgnbd_rdf$predicted_clv, xlim=c(0,500), breaks=3000)\n",
    "plot(density(bgnbd_rdf$predicted_clv), xlim=c(0,300))"
   ]
  },
  {
   "cell_type": "markdown",
   "id": "immune-simple",
   "metadata": {},
   "source": [
    "## Step 5: Ship back to BigQuery"
   ]
  },
  {
   "cell_type": "code",
   "execution_count": 68,
   "id": "honest-village",
   "metadata": {},
   "outputs": [],
   "source": [
    "#update column names for proper BQ formatting\n",
    "colnames(bgnbd_rdf) <- c('cust', 'x', 'tx', 'litt','sales','salesx','first','Tcal','sales_avg','Tstar','predicted_fut_transactions','predicted_clv')"
   ]
  },
  {
   "cell_type": "code",
   "execution_count": 69,
   "id": "false-fitness",
   "metadata": {},
   "outputs": [],
   "source": [
    "#auth into BQ\n",
    "provideBQAuthentication()"
   ]
  },
  {
   "cell_type": "code",
   "execution_count": 71,
   "id": "widespread-bundle",
   "metadata": {},
   "outputs": [
    {
     "name": "stderr",
     "output_type": "stream",
     "text": [
      "Auto-refreshing stale OAuth token.\n",
      "\n",
      "Complete\n",
      "\n",
      "Input:  4.48 MB\n",
      "\n",
      "Output: 2.26 MB\n",
      "\n"
     ]
    }
   ],
   "source": [
    "#push to BQ\n",
    "createBigQueryTable('cdnow_clvpred_new',bgnbd_rdf)"
   ]
  }
 ],
 "metadata": {
  "environment": {
   "name": "r-cpu.3-6.mnightly-2021-01-20-debian-10-test",
   "type": "gcloud",
   "uri": "gcr.io/deeplearning-platform-release/r-cpu.3-6:mnightly-2021-01-20-debian-10-test"
  },
  "kernelspec": {
   "display_name": "R",
   "language": "R",
   "name": "ir"
  },
  "language_info": {
   "codemirror_mode": "r",
   "file_extension": ".r",
   "mimetype": "text/x-r-source",
   "name": "R",
   "pygments_lexer": "r",
   "version": "3.6.3"
  }
 },
 "nbformat": 4,
 "nbformat_minor": 5
}
